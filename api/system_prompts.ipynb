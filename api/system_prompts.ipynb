{
 "cells": [
  {
   "cell_type": "code",
   "execution_count": 1,
   "id": "f3a60303",
   "metadata": {},
   "outputs": [
    {
     "data": {
      "text/plain": [
       "True"
      ]
     },
     "execution_count": 1,
     "metadata": {},
     "output_type": "execute_result"
    }
   ],
   "source": [
    "# Load environment variables\n",
    "from dotenv import load_dotenv\n",
    "\n",
    "load_dotenv()"
   ]
  },
  {
   "cell_type": "code",
   "execution_count": 2,
   "id": "97cf517b",
   "metadata": {},
   "outputs": [],
   "source": [
    "# Initialize the Anthropic client\n",
    "from anthropic import Anthropic\n",
    "\n",
    "client = Anthropic()\n",
    "model = \"claude-sonnet-4-0\""
   ]
  },
  {
   "cell_type": "code",
   "execution_count": 14,
   "id": "b23a951f",
   "metadata": {},
   "outputs": [],
   "source": [
    "# Helper functions\n",
    "def add_user_message(messages, content):\n",
    "    user_message = {\"role\": \"user\", \"content\": content}\n",
    "    messages.append(user_message)\n",
    "\n",
    "def add_assistant_message(messages, content):\n",
    "    assistant_message = {\"role\": \"assistant\", \"content\": content}\n",
    "    messages.append(assistant_message)\n",
    "\n",
    "def chat(messages, system=None, temperature=1.0):\n",
    "    params = {\n",
    "        \"model\": model,\n",
    "        \"max_tokens\": 1000,\n",
    "        \"messages\": messages,\n",
    "        \"temperature\": temperature,\n",
    "    }\n",
    "\n",
    "    if system:\n",
    "        params[\"system\"] = system\n",
    "\n",
    "    message = client.messages.create(**params)\n",
    "    return message.content[0].text"
   ]
  },
  {
   "cell_type": "code",
   "execution_count": null,
   "id": "4fa4efdb",
   "metadata": {},
   "outputs": [],
   "source": [
    "messages = []\n",
    "system = \"\"\"\n",
    "You are a patient math tutor.\n",
    "Do not directly answer a student's question.\n",
    "Guide them to a solution step by step.\n",
    "\"\"\"\n",
    "\n",
    "add_user_message(messages, \"How do I solve 5x+3=2 for x?\")\n",
    "answer = chat(messages, system)\n",
    "\n",
    "answer"
   ]
  },
  {
   "cell_type": "code",
   "execution_count": null,
   "id": "18db8766",
   "metadata": {},
   "outputs": [],
   "source": [
    "messages = []\n",
    "system = \"\"\"\n",
    "You are a Python engineer who writes very concise code.\n",
    "\"\"\"\n",
    "\n",
    "add_user_message(\n",
    "  messages,\n",
    "  \"Write a Python function that checks a string for duplicate characters.\"\n",
    ")\n",
    "answer = chat(messages, system)\n",
    "\n",
    "answer"
   ]
  },
  {
   "cell_type": "code",
   "execution_count": null,
   "id": "6d75cfea",
   "metadata": {},
   "outputs": [
    {
     "data": {
      "text/plain": [
       "'A time-traveling librarian discovers that someone is systematically erasing historical events by stealing the books that document them, and she must race through different eras to stop them before all of human history disappears.'"
      ]
     },
     "execution_count": 22,
     "metadata": {},
     "output_type": "execute_result"
    }
   ],
   "source": [
    "# Temperature Demo\n",
    "messages = []\n",
    "\n",
    "add_user_message(\n",
    "  messages,\n",
    "  \"Generate a one sentence movie idea.\"\n",
    ")\n",
    "answer = chat(messages, temperature=0.8)\n",
    "\n",
    "answer"
   ]
  }
 ],
 "metadata": {
  "kernelspec": {
   "display_name": "venv",
   "language": "python",
   "name": "python3"
  },
  "language_info": {
   "codemirror_mode": {
    "name": "ipython",
    "version": 3
   },
   "file_extension": ".py",
   "mimetype": "text/x-python",
   "name": "python",
   "nbconvert_exporter": "python",
   "pygments_lexer": "ipython3",
   "version": "3.13.1"
  }
 },
 "nbformat": 4,
 "nbformat_minor": 5
}
