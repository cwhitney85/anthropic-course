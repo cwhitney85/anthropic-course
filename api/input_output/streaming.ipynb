{
 "cells": [
  {
   "cell_type": "code",
   "execution_count": 5,
   "id": "6d089de1",
   "metadata": {},
   "outputs": [],
   "source": [
    "from dotenv import load_dotenv\n",
    "from anthropic import Anthropic\n",
    "\n",
    "# Load env variables\n",
    "load_dotenv()\n",
    "\n",
    "# Create an API client\n",
    "client = Anthropic()\n",
    "model = \"claude-sonnet-4-0\"\n",
    "\n",
    "# Helper functions\n",
    "def add_user_message(messages, content):\n",
    "    user_message = {\"role\": \"user\", \"content\": content}\n",
    "    messages.append(user_message)\n",
    "\n",
    "def add_assistant_message(messages, content):\n",
    "    assistant_message = {\"role\": \"assistant\", \"content\": content}\n",
    "    messages.append(assistant_message)\n",
    "\n",
    "def chat(messages, system=None, temperature=1.0, stop_sequences=[]):\n",
    "    params = {\n",
    "        \"model\": model,\n",
    "        \"max_tokens\": 1000,\n",
    "        \"messages\": messages,\n",
    "        \"temperature\": temperature,\n",
    "        \"stop_sequences\": stop_sequences\n",
    "    }\n",
    "\n",
    "    if system:\n",
    "        params[\"system\"] = system\n",
    "\n",
    "    message = client.messages.create(**params)\n",
    "    return message.content[0].text"
   ]
  },
  {
   "cell_type": "code",
   "execution_count": null,
   "id": "a2d957f5",
   "metadata": {},
   "outputs": [],
   "source": [
    "messages = []\n",
    "\n",
    "add_user_message(messages, \"Write a 1 sentence description of a fake databse\")\n",
    "\n",
    "stream = client.messages.create(\n",
    "  model=model,\n",
    "  max_tokens=1000,\n",
    "  messages=messages,\n",
    "  stream=True\n",
    ")\n",
    "\n",
    "for event in stream:\n",
    "  print(event)\n"
   ]
  },
  {
   "cell_type": "code",
   "execution_count": null,
   "id": "08af7ab3",
   "metadata": {},
   "outputs": [
    {
     "data": {
      "text/plain": [
       "Message(id='msg_013XfD1fDnT56z5te5jyesu1', content=[TextBlock(citations=None, text='The \"FantasyDB\" is a fictional relational database that stores comprehensive information about mythical creatures, including their magical abilities, habitat preferences, weakness vulnerabilities, and historical sightings across various fantasy realms.', type='text')], model='claude-sonnet-4-20250514', role='assistant', stop_reason='end_turn', stop_sequence=None, type='message', usage=Usage(cache_creation_input_tokens=0, cache_read_input_tokens=0, input_tokens=19, output_tokens=48, server_tool_use=None, service_tier='standard'))"
      ]
     },
     "execution_count": 4,
     "metadata": {},
     "output_type": "execute_result"
    }
   ],
   "source": [
    "messages = []\n",
    "\n",
    "add_user_message(messages, \"Write a 1 sentence description of a fake databse\")\n",
    "\n",
    "with client.messages.stream(\n",
    "  model=model,\n",
    "  max_tokens=1000,\n",
    "  messages=messages\n",
    ") as stream:\n",
    "  for text in stream.text_stream:\n",
    "    # Print to steam the response as it comes in\n",
    "    # print(text, end=\"\")\n",
    "    pass\n",
    "\n",
    "# Or get the final message with metadata to save to a database\n",
    "stream.get_final_message()"
   ]
  }
 ],
 "metadata": {
  "kernelspec": {
   "display_name": "venv",
   "language": "python",
   "name": "python3"
  },
  "language_info": {
   "codemirror_mode": {
    "name": "ipython",
    "version": 3
   },
   "file_extension": ".py",
   "mimetype": "text/x-python",
   "name": "python",
   "nbconvert_exporter": "python",
   "pygments_lexer": "ipython3",
   "version": "3.13.1"
  }
 },
 "nbformat": 4,
 "nbformat_minor": 5
}
