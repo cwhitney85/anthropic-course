{
 "cells": [
  {
   "cell_type": "code",
   "execution_count": 2,
   "id": "7129f100",
   "metadata": {},
   "outputs": [],
   "source": [
    "from dotenv import load_dotenv\n",
    "from anthropic import Anthropic\n",
    "\n",
    "# Load env variables\n",
    "load_dotenv()\n",
    "\n",
    "# Create an API client\n",
    "client = Anthropic()\n",
    "model = \"claude-sonnet-4-0\"\n",
    "\n",
    "# Helper functions\n",
    "def add_user_message(messages, content):\n",
    "    user_message = {\"role\": \"user\", \"content\": content}\n",
    "    messages.append(user_message)\n",
    "\n",
    "def add_assistant_message(messages, content):\n",
    "    assistant_message = {\"role\": \"assistant\", \"content\": content}\n",
    "    messages.append(assistant_message)\n",
    "\n",
    "def chat(messages, system=None, temperature=1.0, stop_sequences=[]):\n",
    "    params = {\n",
    "        \"model\": model,\n",
    "        \"max_tokens\": 1000,\n",
    "        \"messages\": messages,\n",
    "        \"temperature\": temperature,\n",
    "        \"stop_sequences\": stop_sequences\n",
    "    }\n",
    "\n",
    "    if system:\n",
    "        params[\"system\"] = system\n",
    "\n",
    "    message = client.messages.create(**params)\n",
    "    return message.content[0].text"
   ]
  },
  {
   "cell_type": "code",
   "execution_count": null,
   "id": "def842c7",
   "metadata": {},
   "outputs": [],
   "source": [
    "import json\n",
    "\n",
    "messages = []\n",
    "\n",
    "add_user_message(messages, \"Generate a very short event bridge rule as json\")\n",
    "\n",
    "# Without prefilled assistant message...\n",
    "add_assistant_message(messages, \"```json\")\n",
    "\n",
    "# And stop sequences for back tics the response will try to render the JSON in markdown\n",
    "text = chat(messages, stop_sequences=[\"```\"])\n",
    "\n",
    "json.loads(text.strip())"
   ]
  },
  {
   "cell_type": "code",
   "execution_count": 21,
   "id": "d54c48b2",
   "metadata": {},
   "outputs": [
    {
     "data": {
      "text/plain": [
       "'aws s3 ls\\n\\naws ec2 describe-instances\\n\\naws iam list-users'"
      ]
     },
     "execution_count": 21,
     "metadata": {},
     "output_type": "execute_result"
    }
   ],
   "source": [
    "messages = []\n",
    "\n",
    "prompt = \"\"\"\n",
    "Generate three different sample AWS CLI commands. Each should be very short.\n",
    "\"\"\"\n",
    "\n",
    "add_user_message(messages, prompt)\n",
    "\n",
    "# add_assistant_message(messages, \"Here are three short AWS CLI commands:\\n```\\n-\")\n",
    "add_assistant_message(messages, \"Here are all three commands in a single block without any comments:\\n```bash\")\n",
    "\n",
    "text = chat(messages, stop_sequences=[\"```\"])\n",
    "text.strip()"
   ]
  }
 ],
 "metadata": {
  "kernelspec": {
   "display_name": "venv",
   "language": "python",
   "name": "python3"
  },
  "language_info": {
   "codemirror_mode": {
    "name": "ipython",
    "version": 3
   },
   "file_extension": ".py",
   "mimetype": "text/x-python",
   "name": "python",
   "nbconvert_exporter": "python",
   "pygments_lexer": "ipython3",
   "version": "3.13.1"
  }
 },
 "nbformat": 4,
 "nbformat_minor": 5
}
