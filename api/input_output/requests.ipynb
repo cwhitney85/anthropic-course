{
 "cells": [
  {
   "cell_type": "code",
   "execution_count": null,
   "id": "c6a1f7d1",
   "metadata": {},
   "outputs": [],
   "source": [
    "# Install dependencies\n",
    "%pip install anthropic python-dotenv"
   ]
  },
  {
   "cell_type": "code",
   "execution_count": 4,
   "id": "21d7d5ec",
   "metadata": {},
   "outputs": [
    {
     "data": {
      "text/plain": [
       "True"
      ]
     },
     "execution_count": 4,
     "metadata": {},
     "output_type": "execute_result"
    }
   ],
   "source": [
    "# Load env variables\n",
    "from dotenv import load_dotenv\n",
    "\n",
    "load_dotenv()"
   ]
  },
  {
   "cell_type": "code",
   "execution_count": 5,
   "id": "450942c8",
   "metadata": {},
   "outputs": [],
   "source": [
    "# Create an API client\n",
    "from anthropic import Anthropic\n",
    "\n",
    "client = Anthropic()\n",
    "model = \"claude-sonnet-4-0\""
   ]
  },
  {
   "cell_type": "code",
   "execution_count": 6,
   "id": "3258cd28",
   "metadata": {},
   "outputs": [],
   "source": [
    "# Add a user message to the messages list\n",
    "def add_user_message(messages, text):\n",
    "  user_message = {\"role\": \"user\", \"content\": text}\n",
    "  messages.append(user_message)\n",
    "\n",
    "# Add an assistant message to the messages list\n",
    "def add_assistant_message(messages, text):\n",
    "  assistant_message = {\"role\": \"assistant\", \"content\": text}\n",
    "  messages.append(assistant_message)\n",
    "\n",
    "# Make a request\n",
    "def chat(messages):\n",
    "  message = client.messages.create(\n",
    "    model=model,\n",
    "    max_tokens=1000,\n",
    "    messages=messages\n",
    "  )\n",
    "\n",
    "  return message.content[0].text"
   ]
  },
  {
   "cell_type": "code",
   "execution_count": null,
   "id": "f5a40f0c",
   "metadata": {},
   "outputs": [],
   "source": [
    "messages = []\n",
    "\n",
    "while True:\n",
    "  # Get user input\n",
    "  user_input = input(\"> \")\n",
    "  print(\">\", user_input)\n",
    "\n",
    "  # Add user input to messages\n",
    "  add_user_message(messages, user_input)\n",
    "\n",
    "  #Call Claude with chat\n",
    "  answer = chat(messages)\n",
    "\n",
    "  # add generated text\n",
    "  add_assistant_message(messages, answer)\n",
    "  #print generated text\n",
    "  print(\"----\")\n",
    "  print(answer)\n",
    "  print(\"----\")"
   ]
  }
 ],
 "metadata": {
  "kernelspec": {
   "display_name": "venv",
   "language": "python",
   "name": "python3"
  },
  "language_info": {
   "codemirror_mode": {
    "name": "ipython",
    "version": 3
   },
   "file_extension": ".py",
   "mimetype": "text/x-python",
   "name": "python",
   "nbconvert_exporter": "python",
   "pygments_lexer": "ipython3",
   "version": "3.13.1"
  }
 },
 "nbformat": 4,
 "nbformat_minor": 5
}
